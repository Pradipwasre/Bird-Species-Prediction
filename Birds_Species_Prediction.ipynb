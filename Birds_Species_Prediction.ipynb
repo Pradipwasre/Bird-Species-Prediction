{
  "nbformat": 4,
  "nbformat_minor": 0,
  "metadata": {
    "colab": {
      "provenance": []
    },
    "kernelspec": {
      "name": "python3",
      "display_name": "Python 3"
    },
    "language_info": {
      "name": "python"
    },
    "accelerator": "TPU",
    "gpuClass": "standard"
  },
  "cells": [
    {
      "cell_type": "code",
      "execution_count": 31,
      "metadata": {
        "colab": {
          "base_uri": "https://localhost:8080/"
        },
        "id": "qcLmyKV_e-QN",
        "outputId": "d0d14250-eb81-4870-ee54-6d33ea4cac2d"
      },
      "outputs": [
        {
          "output_type": "stream",
          "name": "stdout",
          "text": [
            "Drive already mounted at /content/drive; to attempt to forcibly remount, call drive.mount(\"/content/drive\", force_remount=True).\n"
          ]
        }
      ],
      "source": [
        "# Load the Drive helper and mount\n",
        "from google.colab import drive\n",
        "\n",
        "# This will prompt for authorization.\n",
        "drive.mount('/content/drive')"
      ]
    },
    {
      "cell_type": "code",
      "source": [
        "# After executing the cell above, Drive files will be present in \"/content/drive/My Drive\".\n",
        "!ls \"/content/drive/My Drive\""
      ],
      "metadata": {
        "colab": {
          "base_uri": "https://localhost:8080/"
        },
        "id": "_sWc69XAfbN2",
        "outputId": "1de2417e-01d9-4fcb-d5dc-f0e7e39bd28a"
      },
      "execution_count": 32,
      "outputs": [
        {
          "output_type": "stream",
          "name": "stdout",
          "text": [
            "'10 days python study'\n",
            "'1510537123735Resume_Pradip (1).pdf'\n",
            " 1510537123735Resume_Pradip.pdf\n",
            " 794B6DDF-00D6-4213-A522-F97D704D2B84.pdf\n",
            "'Ableton.Live.Suite.v9.7.1 64x.rar'\n",
            " adult_data.csv.gsheet\n",
            "'AIML at work.docx'\n",
            "'Airport Ground Staff.gdoc'\n",
            "'Assignment 2 Loops.R'\n",
            "'Axis Bank Mini Statement .pdf'\n",
            "'Bird Speciees Dataset'\n",
            " breast_c_Dataset.csv.gsheet\n",
            " Classroom\n",
            "'Colab Notebooks'\n",
            "'Computer vision'\n",
            "'Contact Us_ Sales@oneworldtrip.co.in +91 91456 38691.zip'\n",
            "'Copy of FoundationTextbook.pdf'\n",
            "'Course Experience - Questionnaire.pages'\n",
            "'CSR FnB Cirriculum_8jan.pdf'\n",
            "'Curriculum Vitae pradip wasre 1oct 2018.docx'\n",
            " CV\n",
            " Dog_Breed_Prediction.ipynb\n",
            " FoundationTextbook.pdf\n",
            "'Getting started.pdf'\n",
            "'Hands on data1.gsheet'\n",
            "'Health And Fitness SnS Fitness (1).pptx'\n",
            "'Health And Fitness SnS Fitness.pptx'\n",
            "'housing (1).csv.gsheet'\n",
            "'housing (2).csv.gsheet'\n",
            " housing.csv.gsheet\n",
            " IDFCFIRSTBankstatement-10052550674.pdf\n",
            " IMG_3022.jpg\n",
            " IMG_3711.jpg\n",
            "'Martin Garrix - Animals (Official Video).mp3'\n",
            "'Meeting notes.gdoc'\n",
            " My-Heart-Will-Go-On.pdf\n",
            " new_user_credentials.csv\n",
            " new_user_credentials.gsheet\n",
            "'Nucleya - Bass Rani - Mumbai Dance feat. Julius Sy.mp3'\n",
            "'Oneworldtrip.com (2).png'\n",
            "'organized (5)_pagenumber (1).pdf'\n",
            "'organized (5)_pagenumber (2).pdf'\n",
            "'organized (5).pdf'\n",
            "'P1-AmazingMartEU2 (2) (1).gsheet'\n",
            "'P1-AmazingMartEU2 (2).gsheet'\n",
            "'P1-OfficeSupplies (1) (1).csv.gsheet'\n",
            "'P1-OfficeSupplies (1) (2).csv.gsheet'\n",
            "'P1-OfficeSupplies (1).csv.gsheet'\n",
            " pdfFoundationTextbook.pdf\n",
            "'Plant Disease Prediction.ipynb'\n",
            " Plant_images_pianalytix\n",
            "'Pradip Wasre (1).doc'\n",
            "'Pradip Wasre.doc'\n",
            "'Pradip Wasre.jpg'\n",
            " Pradip_Wasre_Resume.pdf\n",
            "'Project PM1.pdf'\n",
            "'Project PM.pdf'\n",
            "\"resume.doc'\"\n",
            "\"shine.doc'\"\n",
            " SpiceJet.gsheet\n",
            "'Superstore_Canada (2) (1).gsheet'\n",
            "'Superstore_Canada (2).gsheet'\n",
            " taxes.pdf\n",
            " themeforest-5489609-newspaper-wordpress-theme.zip\n",
            " themeforest-5489609-newspaper.zip\n",
            " Titanic.csv.gsheet\n",
            "'top-performing employee By Region.twbx'\n",
            " Traffic-sign-classification.ipynb\n",
            "'Untitled document (1).gdoc'\n",
            "'Untitled document (2).gdoc'\n",
            "'Untitled document (3).gdoc'\n",
            "'Untitled document.gdoc'\n"
          ]
        }
      ]
    },
    {
      "cell_type": "code",
      "source": [
        "# Library imports\n",
        "import numpy as np\n",
        "import pandas as pd\n",
        "import matplotlib.pyplot as plt\n",
        "from matplotlib.image import imread\n",
        "import cv2\n",
        "import random\n",
        "from os import listdir\n",
        "from sklearn.preprocessing import  LabelBinarizer\n",
        "from keras.preprocessing import image\n",
        "from keras_preprocessing.image import img_to_array\n",
        "from keras.optimizers import Adam\n",
        "from keras.models import Sequential\n",
        "from keras.layers import Conv2D, MaxPooling2D, Activation, Flatten, Dropout, Dense\n",
        "from sklearn.model_selection import train_test_split"
      ],
      "metadata": {
        "id": "nA4231FLfbQX"
      },
      "execution_count": 55,
      "outputs": []
    },
    {
      "cell_type": "markdown",
      "source": [
        "Let's visualize some of the bird images that we will be working on. Also we will observe x and y dimensions of the image."
      ],
      "metadata": {
        "id": "XdErdk57Ifv4"
      }
    },
    {
      "cell_type": "code",
      "source": [
        "# Setting path and creating empty list\n",
        "dir = \"/content/drive/My Drive/Bird Speciees Dataset\"\n",
        "root_dir = listdir(dir)\n",
        "image_list, label_list = [], []\n"
      ],
      "metadata": {
        "id": "U08vaUdQfbSs"
      },
      "execution_count": 34,
      "outputs": []
    },
    {
      "cell_type": "code",
      "source": [
        "# Reading and converting image to numpy array\n",
        "for directory in root_dir:\n",
        "  for files in listdir(f\"{dir}/{directory}\"):\n",
        "    image_path = f\"{dir}/{directory}/{files}\"\n",
        "    image = cv2.imread(image_path)\n",
        "    image = img_to_array(image)\n",
        "    image_list.append(image)\n",
        "    label_list.append(directory)"
      ],
      "metadata": {
        "id": "wxDjNotBfbVL"
      },
      "execution_count": 35,
      "outputs": []
    },
    {
      "cell_type": "code",
      "source": [
        "# Visualize the number of classes count\n",
        "label_counts = pd.DataFrame(label_list).value_counts()\n",
        "label_counts"
      ],
      "metadata": {
        "colab": {
          "base_uri": "https://localhost:8080/"
        },
        "id": "IuKGjgGKIt30",
        "outputId": "221c2f2b-5a2e-48a8-9ead-98ace119f3d9"
      },
      "execution_count": 36,
      "outputs": [
        {
          "output_type": "execute_result",
          "data": {
            "text/plain": [
              "AMERICAN GOLDFINCH    143\n",
              "EMPEROR PENGUIN       139\n",
              "DOWNY WOODPECKER      137\n",
              "FLAMINGO              132\n",
              "CARMINE BEE-EATER     131\n",
              "BARN OWL              129\n",
              "dtype: int64"
            ]
          },
          "metadata": {},
          "execution_count": 36
        }
      ]
    },
    {
      "cell_type": "code",
      "source": [
        "# Storing number of classes\n",
        "num_classes = len(label_counts)\n",
        "num_classes"
      ],
      "metadata": {
        "colab": {
          "base_uri": "https://localhost:8080/"
        },
        "id": "qqHq-FrgI4ju",
        "outputId": "77147812-96ba-486a-fe29-5f70528e0155"
      },
      "execution_count": 37,
      "outputs": [
        {
          "output_type": "execute_result",
          "data": {
            "text/plain": [
              "6"
            ]
          },
          "metadata": {},
          "execution_count": 37
        }
      ]
    },
    {
      "cell_type": "code",
      "source": [
        "# Checking input image shape\n",
        "image_list[0].shape"
      ],
      "metadata": {
        "colab": {
          "base_uri": "https://localhost:8080/"
        },
        "id": "eG86ebJlI7XB",
        "outputId": "86402d9e-51d5-410e-fcef-f634a9f267f5"
      },
      "execution_count": 38,
      "outputs": [
        {
          "output_type": "execute_result",
          "data": {
            "text/plain": [
              "(224, 224, 3)"
            ]
          },
          "metadata": {},
          "execution_count": 38
        }
      ]
    },
    {
      "cell_type": "markdown",
      "source": [
        "Check the shape of image labels which will be equal to the number of images we are going to work with.\n",
        "\n"
      ],
      "metadata": {
        "id": "DDvFmlYkKoBK"
      }
    },
    {
      "cell_type": "code",
      "source": [
        "label_list = np.array(label_list)\n",
        "label_list.shape"
      ],
      "metadata": {
        "colab": {
          "base_uri": "https://localhost:8080/"
        },
        "id": "aUAu8P-4KmhZ",
        "outputId": "ce22e266-e766-4002-abe6-776351d083f1"
      },
      "execution_count": 39,
      "outputs": [
        {
          "output_type": "execute_result",
          "data": {
            "text/plain": [
              "(811,)"
            ]
          },
          "metadata": {},
          "execution_count": 39
        }
      ]
    },
    {
      "cell_type": "code",
      "source": [
        "# Now we will split the data into training and testing using train_test_split() of sklearn\n",
        "x_train, x_test, y_train, y_test = train_test_split(image_list,label_list,test_size= 0.25, random_state = 42)"
      ],
      "metadata": {
        "id": "MHnoPb4pJe2M"
      },
      "execution_count": 40,
      "outputs": []
    },
    {
      "cell_type": "code",
      "source": [
        "# Next we will normalize the images by dividing them with 255. Also, we will reshape x_train and x_test.\n",
        "# Normalization is the process we do mostly in the CNN or image classification\n",
        "x_train = np.array(x_train, dtype = np.float16) / 225.0\n",
        "x_test = np.array(x_test, dtype = np.float16) / 225.0\n",
        "x_train = x_train.reshape(-1,224,224 ,3 )\n",
        "x_test = x_test.reshape(-1,224 , 224, 3)"
      ],
      "metadata": {
        "id": "zNFhhAmVKhZ-"
      },
      "execution_count": 41,
      "outputs": []
    },
    {
      "cell_type": "code",
      "source": [
        "# Now we will use label binarizer to one-hot-encode to our y data. We will also print the sequence of the classes\n",
        "# lable binarizing\n",
        "lb = LabelBinarizer()\n",
        "y_train = lb.fit_transform(y_train)\n",
        "y_test = lb.fit_transform(y_test)\n",
        "print(lb.classes_)"
      ],
      "metadata": {
        "colab": {
          "base_uri": "https://localhost:8080/"
        },
        "id": "E3UqppayL4xh",
        "outputId": "f650d7be-30cc-4c56-a151-5e3385b71eac"
      },
      "execution_count": 42,
      "outputs": [
        {
          "output_type": "stream",
          "name": "stdout",
          "text": [
            "['AMERICAN GOLDFINCH' 'BARN OWL' 'CARMINE BEE-EATER' 'DOWNY WOODPECKER'\n",
            " 'EMPEROR PENGUIN' 'FLAMINGO']\n"
          ]
        }
      ]
    },
    {
      "cell_type": "code",
      "source": [
        "# Splitting the training data set into training and validation data sets \n",
        "x_train, x_val, y_train,y_val = train_test_split(x_train,y_train,test_size= 0.2)"
      ],
      "metadata": {
        "id": "Vyrp1TDbMuEs"
      },
      "execution_count": 43,
      "outputs": []
    },
    {
      "cell_type": "code",
      "source": [
        "# Building model archtecture\n",
        "model  = Sequential()\n",
        "model.add(Conv2D(8, (3, 3), padding=\"same\",input_shape=(224,224,3), activation=\"relu\"))\n",
        "model.add(MaxPooling2D(pool_size=(3, 3)))\n",
        "model.add(Conv2D(16, (3, 3), padding=\"same\", activation=\"relu\"))\n",
        "model.add(MaxPooling2D(pool_size=(2, 2)))\n",
        "model.add(Conv2D(32, (3, 3), padding=\"same\", activation=\"relu\"))\n",
        "model.add(MaxPooling2D(pool_size=(2, 2)))\n",
        "model.add(Flatten())\n",
        "model.add(Dense(32, activation=\"relu\"))\n",
        "model.add(Dense(num_classes, activation=\"softmax\"))\n",
        "model.summary()"
      ],
      "metadata": {
        "colab": {
          "base_uri": "https://localhost:8080/"
        },
        "id": "LZILD6mOOcRB",
        "outputId": "f1cb8f64-e248-4ddc-d66a-681992847485"
      },
      "execution_count": 44,
      "outputs": [
        {
          "output_type": "stream",
          "name": "stdout",
          "text": [
            "Model: \"sequential_1\"\n",
            "_________________________________________________________________\n",
            " Layer (type)                Output Shape              Param #   \n",
            "=================================================================\n",
            " conv2d_3 (Conv2D)           (None, 224, 224, 8)       224       \n",
            "                                                                 \n",
            " max_pooling2d_3 (MaxPooling  (None, 74, 74, 8)        0         \n",
            " 2D)                                                             \n",
            "                                                                 \n",
            " conv2d_4 (Conv2D)           (None, 74, 74, 16)        1168      \n",
            "                                                                 \n",
            " max_pooling2d_4 (MaxPooling  (None, 37, 37, 16)       0         \n",
            " 2D)                                                             \n",
            "                                                                 \n",
            " conv2d_5 (Conv2D)           (None, 37, 37, 32)        4640      \n",
            "                                                                 \n",
            " max_pooling2d_5 (MaxPooling  (None, 18, 18, 32)       0         \n",
            " 2D)                                                             \n",
            "                                                                 \n",
            " flatten_1 (Flatten)         (None, 10368)             0         \n",
            "                                                                 \n",
            " dense_2 (Dense)             (None, 32)                331808    \n",
            "                                                                 \n",
            " dense_3 (Dense)             (None, 6)                 198       \n",
            "                                                                 \n",
            "=================================================================\n",
            "Total params: 338,038\n",
            "Trainable params: 338,038\n",
            "Non-trainable params: 0\n",
            "_________________________________________________________________\n"
          ]
        }
      ]
    },
    {
      "cell_type": "markdown",
      "source": [
        "Now we will create the a network archtecture for the model. We have used different types of layers according to their features namely Conv_2d (it is used to create a convolutional kernel that is convolved with the input layer to produce the ouput tensor), max_pooling2d (It is a downsampling technique which takes out the maximum value over the window difined by poolsize), latten (It flattens the input and creates a 1D output), Dense (Dense layer produce the output as the dot product of input and kernel). In the last layer we will use softmax as the activation function because it is a multi class classification problem."
      ],
      "metadata": {
        "id": "giKt7vcsNJXo"
      }
    },
    {
      "cell_type": "code",
      "source": [
        "# Compiling model\n",
        "model.compile(loss = \"categorical_crossentropy\", optimizer = Adam(0.0095), metrics = ['accuracy'])"
      ],
      "metadata": {
        "id": "vyKU9koxOF6r"
      },
      "execution_count": 45,
      "outputs": []
    },
    {
      "cell_type": "code",
      "source": [
        "# Compiling model\n",
        "history = model.fit(x_train,y_train, batch_size = 128, epochs = 50, validation_data = (x_val, y_val))"
      ],
      "metadata": {
        "colab": {
          "base_uri": "https://localhost:8080/"
        },
        "id": "SuNOXthTNA0j",
        "outputId": "81385b76-674a-4a8c-87fc-92b564de7198"
      },
      "execution_count": 46,
      "outputs": [
        {
          "output_type": "stream",
          "name": "stdout",
          "text": [
            "Epoch 1/50\n",
            "4/4 [==============================] - 16s 3s/step - loss: 1.9700 - accuracy: 0.1461 - val_loss: 1.7978 - val_accuracy: 0.1557\n",
            "Epoch 2/50\n",
            "4/4 [==============================] - 11s 3s/step - loss: 1.7424 - accuracy: 0.2160 - val_loss: 1.6992 - val_accuracy: 0.2705\n",
            "Epoch 3/50\n",
            "4/4 [==============================] - 11s 3s/step - loss: 1.7644 - accuracy: 0.2922 - val_loss: 1.9371 - val_accuracy: 0.1885\n",
            "Epoch 4/50\n",
            "4/4 [==============================] - 11s 3s/step - loss: 1.8008 - accuracy: 0.2160 - val_loss: 1.6906 - val_accuracy: 0.3197\n",
            "Epoch 5/50\n",
            "4/4 [==============================] - 11s 3s/step - loss: 1.6609 - accuracy: 0.2551 - val_loss: 1.6716 - val_accuracy: 0.1557\n",
            "Epoch 6/50\n",
            "4/4 [==============================] - 11s 3s/step - loss: 1.5895 - accuracy: 0.2325 - val_loss: 1.6029 - val_accuracy: 0.3770\n",
            "Epoch 7/50\n",
            "4/4 [==============================] - 11s 3s/step - loss: 1.4469 - accuracy: 0.4362 - val_loss: 1.4598 - val_accuracy: 0.4590\n",
            "Epoch 8/50\n",
            "4/4 [==============================] - 11s 3s/step - loss: 1.2534 - accuracy: 0.5082 - val_loss: 1.5043 - val_accuracy: 0.4016\n",
            "Epoch 9/50\n",
            "4/4 [==============================] - 13s 3s/step - loss: 1.2074 - accuracy: 0.4979 - val_loss: 1.2458 - val_accuracy: 0.4754\n",
            "Epoch 10/50\n",
            "4/4 [==============================] - 11s 3s/step - loss: 1.2467 - accuracy: 0.5000 - val_loss: 1.5460 - val_accuracy: 0.4590\n",
            "Epoch 11/50\n",
            "4/4 [==============================] - 11s 3s/step - loss: 1.2394 - accuracy: 0.5041 - val_loss: 1.4117 - val_accuracy: 0.4426\n",
            "Epoch 12/50\n",
            "4/4 [==============================] - 11s 3s/step - loss: 1.1853 - accuracy: 0.4609 - val_loss: 1.1848 - val_accuracy: 0.5082\n",
            "Epoch 13/50\n",
            "4/4 [==============================] - 11s 3s/step - loss: 0.9523 - accuracy: 0.6111 - val_loss: 1.0937 - val_accuracy: 0.5082\n",
            "Epoch 14/50\n",
            "4/4 [==============================] - 11s 3s/step - loss: 0.8394 - accuracy: 0.7058 - val_loss: 1.1061 - val_accuracy: 0.5492\n",
            "Epoch 15/50\n",
            "4/4 [==============================] - 11s 3s/step - loss: 0.7544 - accuracy: 0.6996 - val_loss: 0.9322 - val_accuracy: 0.6311\n",
            "Epoch 16/50\n",
            "4/4 [==============================] - 11s 3s/step - loss: 0.7007 - accuracy: 0.7305 - val_loss: 1.0383 - val_accuracy: 0.6230\n",
            "Epoch 17/50\n",
            "4/4 [==============================] - 11s 3s/step - loss: 0.5950 - accuracy: 0.7901 - val_loss: 0.8415 - val_accuracy: 0.6557\n",
            "Epoch 18/50\n",
            "4/4 [==============================] - 11s 3s/step - loss: 0.4960 - accuracy: 0.8354 - val_loss: 0.8371 - val_accuracy: 0.7295\n",
            "Epoch 19/50\n",
            "4/4 [==============================] - 11s 3s/step - loss: 0.3891 - accuracy: 0.8580 - val_loss: 0.8698 - val_accuracy: 0.7131\n",
            "Epoch 20/50\n",
            "4/4 [==============================] - 11s 3s/step - loss: 0.3449 - accuracy: 0.8745 - val_loss: 1.1282 - val_accuracy: 0.6557\n",
            "Epoch 21/50\n",
            "4/4 [==============================] - 11s 3s/step - loss: 0.3619 - accuracy: 0.8724 - val_loss: 0.9074 - val_accuracy: 0.6721\n",
            "Epoch 22/50\n",
            "4/4 [==============================] - 11s 3s/step - loss: 0.3881 - accuracy: 0.8621 - val_loss: 0.8370 - val_accuracy: 0.7213\n",
            "Epoch 23/50\n",
            "4/4 [==============================] - 11s 3s/step - loss: 0.2862 - accuracy: 0.9095 - val_loss: 0.7487 - val_accuracy: 0.7213\n",
            "Epoch 24/50\n",
            "4/4 [==============================] - 11s 3s/step - loss: 0.1612 - accuracy: 0.9588 - val_loss: 1.0937 - val_accuracy: 0.7295\n",
            "Epoch 25/50\n",
            "4/4 [==============================] - 16s 4s/step - loss: 0.1381 - accuracy: 0.9547 - val_loss: 1.1357 - val_accuracy: 0.7623\n",
            "Epoch 26/50\n",
            "4/4 [==============================] - 11s 3s/step - loss: 0.1029 - accuracy: 0.9568 - val_loss: 0.9632 - val_accuracy: 0.7951\n",
            "Epoch 27/50\n",
            "4/4 [==============================] - 11s 3s/step - loss: 0.0704 - accuracy: 0.9774 - val_loss: 1.1712 - val_accuracy: 0.7213\n",
            "Epoch 28/50\n",
            "4/4 [==============================] - 11s 3s/step - loss: 0.0659 - accuracy: 0.9753 - val_loss: 1.7292 - val_accuracy: 0.6803\n",
            "Epoch 29/50\n",
            "4/4 [==============================] - 11s 3s/step - loss: 0.0593 - accuracy: 0.9815 - val_loss: 1.2947 - val_accuracy: 0.7377\n",
            "Epoch 30/50\n",
            "4/4 [==============================] - 12s 3s/step - loss: 0.0229 - accuracy: 0.9938 - val_loss: 1.5849 - val_accuracy: 0.7295\n",
            "Epoch 31/50\n",
            "4/4 [==============================] - 11s 3s/step - loss: 0.0201 - accuracy: 0.9959 - val_loss: 1.4878 - val_accuracy: 0.7459\n",
            "Epoch 32/50\n",
            "4/4 [==============================] - 11s 3s/step - loss: 0.0075 - accuracy: 1.0000 - val_loss: 1.6774 - val_accuracy: 0.7213\n",
            "Epoch 33/50\n",
            "4/4 [==============================] - 11s 3s/step - loss: 0.0052 - accuracy: 1.0000 - val_loss: 1.6053 - val_accuracy: 0.7459\n",
            "Epoch 34/50\n",
            "4/4 [==============================] - 11s 3s/step - loss: 0.0040 - accuracy: 1.0000 - val_loss: 1.6223 - val_accuracy: 0.7705\n",
            "Epoch 35/50\n",
            "4/4 [==============================] - 11s 3s/step - loss: 0.0023 - accuracy: 1.0000 - val_loss: 1.7141 - val_accuracy: 0.7623\n",
            "Epoch 36/50\n",
            "4/4 [==============================] - 11s 3s/step - loss: 0.0017 - accuracy: 1.0000 - val_loss: 1.7533 - val_accuracy: 0.7705\n",
            "Epoch 37/50\n",
            "4/4 [==============================] - 11s 3s/step - loss: 0.0011 - accuracy: 1.0000 - val_loss: 1.7705 - val_accuracy: 0.7623\n",
            "Epoch 38/50\n",
            "4/4 [==============================] - 11s 3s/step - loss: 8.5817e-04 - accuracy: 1.0000 - val_loss: 1.7864 - val_accuracy: 0.7541\n",
            "Epoch 39/50\n",
            "4/4 [==============================] - 11s 3s/step - loss: 6.9585e-04 - accuracy: 1.0000 - val_loss: 1.8229 - val_accuracy: 0.7459\n",
            "Epoch 40/50\n",
            "4/4 [==============================] - 11s 3s/step - loss: 5.4291e-04 - accuracy: 1.0000 - val_loss: 1.8928 - val_accuracy: 0.7377\n",
            "Epoch 41/50\n",
            "4/4 [==============================] - 11s 3s/step - loss: 4.6342e-04 - accuracy: 1.0000 - val_loss: 1.9470 - val_accuracy: 0.7541\n",
            "Epoch 42/50\n",
            "4/4 [==============================] - 11s 3s/step - loss: 4.0733e-04 - accuracy: 1.0000 - val_loss: 1.9148 - val_accuracy: 0.7377\n",
            "Epoch 43/50\n",
            "4/4 [==============================] - 11s 3s/step - loss: 3.7412e-04 - accuracy: 1.0000 - val_loss: 1.9249 - val_accuracy: 0.7377\n",
            "Epoch 44/50\n",
            "4/4 [==============================] - 11s 3s/step - loss: 3.4756e-04 - accuracy: 1.0000 - val_loss: 1.9468 - val_accuracy: 0.7377\n",
            "Epoch 45/50\n",
            "4/4 [==============================] - 11s 3s/step - loss: 3.1838e-04 - accuracy: 1.0000 - val_loss: 1.9874 - val_accuracy: 0.7459\n",
            "Epoch 46/50\n",
            "4/4 [==============================] - 11s 3s/step - loss: 2.9112e-04 - accuracy: 1.0000 - val_loss: 2.0394 - val_accuracy: 0.7541\n",
            "Epoch 47/50\n",
            "4/4 [==============================] - 11s 3s/step - loss: 2.6567e-04 - accuracy: 1.0000 - val_loss: 2.0801 - val_accuracy: 0.7459\n",
            "Epoch 48/50\n",
            "4/4 [==============================] - 11s 3s/step - loss: 2.4579e-04 - accuracy: 1.0000 - val_loss: 2.1083 - val_accuracy: 0.7459\n",
            "Epoch 49/50\n",
            "4/4 [==============================] - 11s 3s/step - loss: 2.2500e-04 - accuracy: 1.0000 - val_loss: 2.1231 - val_accuracy: 0.7459\n",
            "Epoch 50/50\n",
            "4/4 [==============================] - 11s 3s/step - loss: 2.0846e-04 - accuracy: 1.0000 - val_loss: 2.1092 - val_accuracy: 0.7541\n"
          ]
        }
      ]
    },
    {
      "cell_type": "code",
      "source": [
        "# Saving Model\n",
        "model.save(\"/content/drive/My Drive/bird_species.h5\")"
      ],
      "metadata": {
        "id": "yHoZHkKZN-r-"
      },
      "execution_count": 47,
      "outputs": []
    },
    {
      "cell_type": "code",
      "source": [
        "# Plot the training history\n",
        "plt.figure(figsize = (12,5))\n",
        "plt.plot(history.history['accuracy'], color = 'r')\n",
        "plt.plot(history.history['val_accuracy'], color = 'b')\n",
        "plt.title('Model Accuracy')\n",
        "plt.ylabel('Accuracy')\n",
        "plt.xlabel('Epochs')\n",
        "plt.legend(['train','val'])\n",
        "plt.show()"
      ],
      "metadata": {
        "colab": {
          "base_uri": "https://localhost:8080/",
          "height": 350
        },
        "id": "Rdh0jsEcqLMI",
        "outputId": "eb515246-de79-4f67-a078-a6d766dd4169"
      },
      "execution_count": 49,
      "outputs": [
        {
          "output_type": "display_data",
          "data": {
            "text/plain": [
              "<Figure size 864x360 with 1 Axes>"
            ],
            "image/png": "[encoded data removed]"
          },
          "metadata": {
            "needs_background": "light"
          }
        }
      ]
    },
    {
      "cell_type": "code",
      "source": [
        "# Calcularing test accuracy\n",
        "scores = model.evaluate(x_test, y_test)\n",
        "print(f\"Test Accuracy: {scores[1] * 100}\")"
      ],
      "metadata": {
        "colab": {
          "base_uri": "https://localhost:8080/"
        },
        "id": "-N6lTljKqtsF",
        "outputId": "23ba5509-ffca-49e1-af9c-63063c0e8ecf"
      },
      "execution_count": 51,
      "outputs": [
        {
          "output_type": "stream",
          "name": "stdout",
          "text": [
            "7/7 [==============================] - 3s 345ms/step - loss: 1.6574 - accuracy: 0.7389\n",
            "Test Accuracy: 73.8916277885437\n"
          ]
        }
      ]
    },
    {
      "cell_type": "code",
      "source": [
        "# Storing Predictions\n",
        "y_pred = model.predict(x_test)"
      ],
      "metadata": {
        "colab": {
          "base_uri": "https://localhost:8080/"
        },
        "id": "ytixeWxFrG3m",
        "outputId": "b6ec022f-6d6a-4b2f-e7aa-cc73f67b6082"
      },
      "execution_count": 52,
      "outputs": [
        {
          "output_type": "stream",
          "name": "stdout",
          "text": [
            "7/7 [==============================] - 3s 312ms/step\n"
          ]
        }
      ]
    },
    {
      "cell_type": "code",
      "source": [
        "# Plotting image to compare\n",
        "img = img_to_array(x_test[5])\n",
        "img"
      ],
      "metadata": {
        "colab": {
          "base_uri": "https://localhost:8080/"
        },
        "id": "JjNkU9JpraDr",
        "outputId": "c465239f-34ea-491c-b255-0d7d19d5f341"
      },
      "execution_count": 56,
      "outputs": [
        {
          "output_type": "execute_result",
          "data": {
            "text/plain": [
              "array([[[0.09777832, 0.47998047, 0.37329102],\n",
              "        [0.10223389, 0.484375  , 0.37768555],\n",
              "        [0.10668945, 0.48876953, 0.38232422],\n",
              "        ...,\n",
              "        [0.2088623 , 0.44433594, 0.38671875],\n",
              "        [0.2133789 , 0.4489746 , 0.39111328],\n",
              "        [0.2133789 , 0.4489746 , 0.39111328]],\n",
              "\n",
              "       [[0.09777832, 0.47998047, 0.37329102],\n",
              "        [0.10223389, 0.484375  , 0.37768555],\n",
              "        [0.10668945, 0.48876953, 0.38232422],\n",
              "        ...,\n",
              "        [0.2088623 , 0.44433594, 0.38671875],\n",
              "        [0.2133789 , 0.4489746 , 0.39111328],\n",
              "        [0.2133789 , 0.4489746 , 0.39111328]],\n",
              "\n",
              "       [[0.09777832, 0.47998047, 0.37329102],\n",
              "        [0.09777832, 0.47998047, 0.37329102],\n",
              "        [0.10223389, 0.484375  , 0.37768555],\n",
              "        ...,\n",
              "        [0.2088623 , 0.45336914, 0.38671875],\n",
              "        [0.2088623 , 0.45336914, 0.38671875],\n",
              "        [0.2088623 , 0.45336914, 0.38671875]],\n",
              "\n",
              "       ...,\n",
              "\n",
              "       [[0.12445068, 0.12890625, 0.14660645],\n",
              "        [0.12890625, 0.13330078, 0.15112305],\n",
              "        [0.11553955, 0.12890625, 0.15112305],\n",
              "        ...,\n",
              "        [0.16003418, 0.17333984, 0.2088623 ],\n",
              "        [0.15551758, 0.18225098, 0.2133789 ],\n",
              "        [0.15551758, 0.18225098, 0.2133789 ]],\n",
              "\n",
              "       [[0.07110596, 0.08001709, 0.08447266],\n",
              "        [0.13781738, 0.14221191, 0.16003418],\n",
              "        [0.18225098, 0.19555664, 0.21777344],\n",
              "        ...,\n",
              "        [0.14660645, 0.17333984, 0.20446777],\n",
              "        [0.15112305, 0.17773438, 0.2088623 ],\n",
              "        [0.15112305, 0.17773438, 0.2088623 ]],\n",
              "\n",
              "       [[0.10668945, 0.11553955, 0.11999512],\n",
              "        [0.19995117, 0.2088623 , 0.2133789 ],\n",
              "        [0.13330078, 0.14660645, 0.16894531],\n",
              "        ...,\n",
              "        [0.14221191, 0.16894531, 0.19995117],\n",
              "        [0.15112305, 0.17773438, 0.2088623 ],\n",
              "        [0.15551758, 0.18225098, 0.2133789 ]]], dtype=float32)"
            ]
          },
          "metadata": {},
          "execution_count": 56
        }
      ]
    },
    {
      "cell_type": "code",
      "source": [
        "# Finding max value from prediction list and comparing original value vs predicted\n",
        "labels = lb.classes_\n",
        "print(labels)\n",
        "print(\"Originally: \", labels[np.argmax(y_test[5])])\n",
        "print(\"Pridicted: \", labels[np.argmax(y_pred[5])])"
      ],
      "metadata": {
        "colab": {
          "base_uri": "https://localhost:8080/"
        },
        "id": "71rn8zYyrg-W",
        "outputId": "c403c71f-e275-4a47-a7e5-921b6749f3a6"
      },
      "execution_count": 57,
      "outputs": [
        {
          "output_type": "stream",
          "name": "stdout",
          "text": [
            "['AMERICAN GOLDFINCH' 'BARN OWL' 'CARMINE BEE-EATER' 'DOWNY WOODPECKER'\n",
            " 'EMPEROR PENGUIN' 'FLAMINGO']\n",
            "Originally:  BARN OWL\n",
            "Pridicted:  FLAMINGO\n"
          ]
        }
      ]
    },
    {
      "cell_type": "code",
      "source": [],
      "metadata": {
        "id": "1Zc5KOttsK1V"
      },
      "execution_count": null,
      "outputs": []
    }
  ]
}